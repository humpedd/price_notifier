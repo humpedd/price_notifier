{
 "cells": [
  {
   "cell_type": "code",
   "execution_count": 17,
   "metadata": {},
   "outputs": [],
   "source": [
    "from bs4 import BeautifulSoup  as bs\n",
    "import requests\n",
    "import datetime\n",
    "import pandas as pd\n",
    "from plyer import notification\n"
   ]
  },
  {
   "cell_type": "code",
   "execution_count": 3,
   "metadata": {},
   "outputs": [],
   "source": [
    "url = 'https://puregold.com.ph/index.php/pgcatalog/product/view/category/MEAT/subcategory/FRESH%20MEAT/title/VCUTS%20PORK%20HEADMASK%20(@250G)/barcode/2701338002500'\n",
    "headers = {\"User-Agent\":\"Mozilla/5.0 (Windows NT 10.0; Win64; x64) AppleWebKit/537.36 (KHTML, like Gecko) Chrome/118.0.0.0 Safari/537.36 OPR/104.0.0.0\"}\n",
    "page = requests.get(url,headers=headers)\n",
    "soup = bs(page.content,'html.parser')"
   ]
  },
  {
   "cell_type": "code",
   "execution_count": 4,
   "metadata": {},
   "outputs": [],
   "source": [
    "productName = soup.find(class_='base').get_text().strip()\n",
    "price = soup.find(class_=\"price\").get_text().strip()[2:]\n",
    "price = (float(price))\n",
    "today = datetime.date.today()\n"
   ]
  },
  {
   "cell_type": "code",
   "execution_count": 5,
   "metadata": {},
   "outputs": [],
   "source": [
    "header = ['Product Name', 'Price', 'Date']\n",
    "data = [productName, price, today]\n",
    "\n"
   ]
  },
  {
   "cell_type": "code",
   "execution_count": 27,
   "metadata": {},
   "outputs": [],
   "source": [
    "def notifyPrice():\n",
    "    while True:\n",
    "        if price < 20:\n",
    "            # with open('Puregold_Scraper.csv','a+', newline='', encoding='UTF8') as f:\n",
    "            #     writer = csv.writer(f)\n",
    "            #     # writer.writerow(header)\n",
    "            #     writer.writerow(data)\n",
    "            notification.notify(\n",
    "                    title='Weather Scheduler',\n",
    "                    message=f\"Failed to connect: {price}\",\n",
    "                    timeout=10,\n",
    "                )\n",
    "            break\n"
   ]
  },
  {
   "cell_type": "code",
   "execution_count": 28,
   "metadata": {},
   "outputs": [
    {
     "ename": "KeyboardInterrupt",
     "evalue": "",
     "output_type": "error",
     "traceback": [
      "\u001b[1;31m---------------------------------------------------------------------------\u001b[0m",
      "\u001b[1;31mKeyboardInterrupt\u001b[0m                         Traceback (most recent call last)",
      "\u001b[1;32mc:\\Users\\humph\\OneDrive\\Desktop\\New folder\\image_scrapper\\puregold_price_checker.ipynb Cell 6\u001b[0m line \u001b[0;36m1\n\u001b[1;32m----> <a href='vscode-notebook-cell:/c%3A/Users/humph/OneDrive/Desktop/New%20folder/image_scrapper/puregold_price_checker.ipynb#W5sZmlsZQ%3D%3D?line=0'>1</a>\u001b[0m notifyPrice()\n",
      "\u001b[1;32mc:\\Users\\humph\\OneDrive\\Desktop\\New folder\\image_scrapper\\puregold_price_checker.ipynb Cell 6\u001b[0m line \u001b[0;36m2\n\u001b[0;32m      <a href='vscode-notebook-cell:/c%3A/Users/humph/OneDrive/Desktop/New%20folder/image_scrapper/puregold_price_checker.ipynb#W5sZmlsZQ%3D%3D?line=0'>1</a>\u001b[0m \u001b[39mdef\u001b[39;00m \u001b[39mnotifyPrice\u001b[39m():\n\u001b[1;32m----> <a href='vscode-notebook-cell:/c%3A/Users/humph/OneDrive/Desktop/New%20folder/image_scrapper/puregold_price_checker.ipynb#W5sZmlsZQ%3D%3D?line=1'>2</a>\u001b[0m     \u001b[39mwhile\u001b[39;00m \u001b[39mTrue\u001b[39;00m:\n\u001b[0;32m      <a href='vscode-notebook-cell:/c%3A/Users/humph/OneDrive/Desktop/New%20folder/image_scrapper/puregold_price_checker.ipynb#W5sZmlsZQ%3D%3D?line=2'>3</a>\u001b[0m         \u001b[39mif\u001b[39;00m price \u001b[39m<\u001b[39m \u001b[39m20\u001b[39m:\n\u001b[0;32m      <a href='vscode-notebook-cell:/c%3A/Users/humph/OneDrive/Desktop/New%20folder/image_scrapper/puregold_price_checker.ipynb#W5sZmlsZQ%3D%3D?line=3'>4</a>\u001b[0m             \u001b[39m# with open('Puregold_Scraper.csv','a+', newline='', encoding='UTF8') as f:\u001b[39;00m\n\u001b[0;32m      <a href='vscode-notebook-cell:/c%3A/Users/humph/OneDrive/Desktop/New%20folder/image_scrapper/puregold_price_checker.ipynb#W5sZmlsZQ%3D%3D?line=4'>5</a>\u001b[0m             \u001b[39m#     writer = csv.writer(f)\u001b[39;00m\n\u001b[0;32m      <a href='vscode-notebook-cell:/c%3A/Users/humph/OneDrive/Desktop/New%20folder/image_scrapper/puregold_price_checker.ipynb#W5sZmlsZQ%3D%3D?line=5'>6</a>\u001b[0m             \u001b[39m#     # writer.writerow(header)\u001b[39;00m\n\u001b[0;32m      <a href='vscode-notebook-cell:/c%3A/Users/humph/OneDrive/Desktop/New%20folder/image_scrapper/puregold_price_checker.ipynb#W5sZmlsZQ%3D%3D?line=6'>7</a>\u001b[0m             \u001b[39m#     writer.writerow(data)\u001b[39;00m\n\u001b[0;32m      <a href='vscode-notebook-cell:/c%3A/Users/humph/OneDrive/Desktop/New%20folder/image_scrapper/puregold_price_checker.ipynb#W5sZmlsZQ%3D%3D?line=7'>8</a>\u001b[0m             notification\u001b[39m.\u001b[39mnotify(\n\u001b[0;32m      <a href='vscode-notebook-cell:/c%3A/Users/humph/OneDrive/Desktop/New%20folder/image_scrapper/puregold_price_checker.ipynb#W5sZmlsZQ%3D%3D?line=8'>9</a>\u001b[0m                     title\u001b[39m=\u001b[39m\u001b[39m'\u001b[39m\u001b[39mWeather Scheduler\u001b[39m\u001b[39m'\u001b[39m,\n\u001b[0;32m     <a href='vscode-notebook-cell:/c%3A/Users/humph/OneDrive/Desktop/New%20folder/image_scrapper/puregold_price_checker.ipynb#W5sZmlsZQ%3D%3D?line=9'>10</a>\u001b[0m                     message\u001b[39m=\u001b[39m\u001b[39mf\u001b[39m\u001b[39m\"\u001b[39m\u001b[39mFailed to connect: \u001b[39m\u001b[39m{\u001b[39;00mprice\u001b[39m}\u001b[39;00m\u001b[39m\"\u001b[39m,\n\u001b[0;32m     <a href='vscode-notebook-cell:/c%3A/Users/humph/OneDrive/Desktop/New%20folder/image_scrapper/puregold_price_checker.ipynb#W5sZmlsZQ%3D%3D?line=10'>11</a>\u001b[0m                     timeout\u001b[39m=\u001b[39m\u001b[39m10\u001b[39m,\n\u001b[0;32m     <a href='vscode-notebook-cell:/c%3A/Users/humph/OneDrive/Desktop/New%20folder/image_scrapper/puregold_price_checker.ipynb#W5sZmlsZQ%3D%3D?line=11'>12</a>\u001b[0m                 )\n",
      "\u001b[1;31mKeyboardInterrupt\u001b[0m: "
     ]
    }
   ],
   "source": [
    "notifyPrice()\n"
   ]
  }
 ],
 "metadata": {
  "kernelspec": {
   "display_name": "Python 3",
   "language": "python",
   "name": "python3"
  },
  "language_info": {
   "codemirror_mode": {
    "name": "ipython",
    "version": 3
   },
   "file_extension": ".py",
   "mimetype": "text/x-python",
   "name": "python",
   "nbconvert_exporter": "python",
   "pygments_lexer": "ipython3",
   "version": "3.11.6"
  }
 },
 "nbformat": 4,
 "nbformat_minor": 2
}
